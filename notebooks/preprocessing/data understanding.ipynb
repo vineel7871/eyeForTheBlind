{
 "cells": [
  {
   "cell_type": "code",
   "execution_count": null,
   "metadata": {
    "collapsed": true
   },
   "outputs": [],
   "source": [
    "#Import all the required libraries\n",
    "import os, glob, random\n",
    "import pickle, time\n",
    "from pathlib import Path\n",
    "import pathlib\n",
    "import warnings\n",
    "from collections import Counter\n",
    "\n",
    "import pandas as pd\n",
    "import numpy as np\n",
    "import seaborn as sns\n",
    "import matplotlib.pyplot as plt\n",
    "from PIL import Image\n",
    "from tqdm import tqdm\n",
    "\n",
    "from nltk.tokenize import wordpunct_tokenize, word_tokenize\n",
    "from nltk.corpus import stopwords\n",
    "from sklearn.model_selection import train_test_split\n",
    "\n",
    "warnings.filterwarnings('ignore')\n",
    "stopwords = stopwords.words('english')"
   ]
  },
  {
   "cell_type": "code",
   "execution_count": null,
   "outputs": [],
   "source": [
    "#Import the dataset and read the image into a seperate variable\n",
    "\n",
    "\n",
    "images=Path()/\"..\"/\"..\"/\"data\"/'flikr8k'/'Images'\n",
    "all_imgs = images.glob(\"*.jpg\")\n",
    "print(\"The total images present in the dataset: {}\".format(len(all_imgs)))\n",
    "\n",
    "data = pd.read_csv(Path()/\"..\"/\"..\"/\"data\"/'flikr8k'/\"captions.txt\")\n",
    "data = data.to_dict(\"records\")\n",
    "print(\"The total captions present in the dataset: {}\".format(len(data)))\n",
    "\n",
    "img_path_map = {}\n",
    "for x in all_imgs:\n",
    "    img_path_map[x.rsplit(\"/\",1)[1]] = x\n",
    "\n",
    "for x in data:\n",
    "    x[\"path\"] = img_path_map[x[\"image\"]]\n",
    "print(\"paths of images are mapped to captions\")"
   ],
   "metadata": {
    "collapsed": false
   }
  }
 ],
 "metadata": {
  "kernelspec": {
   "display_name": "Python 3",
   "language": "python",
   "name": "python3"
  },
  "language_info": {
   "codemirror_mode": {
    "name": "ipython",
    "version": 2
   },
   "file_extension": ".py",
   "mimetype": "text/x-python",
   "name": "python",
   "nbconvert_exporter": "python",
   "pygments_lexer": "ipython2",
   "version": "2.7.6"
  }
 },
 "nbformat": 4,
 "nbformat_minor": 0
}
